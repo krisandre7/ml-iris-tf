{
  "cells": [
    {
      "cell_type": "markdown",
      "metadata": {
        "id": "j79H6D9MjTgf"
      },
      "source": [
        "## Introduction\n",
        "\n",
        "[Siamese Networks](https://en.wikipedia.org/wiki/Siamese_neural_network)\n",
        "are neural networks which share weights between two or more sister networks,\n",
        "each producing embedding vectors of its respective inputs.\n",
        "\n",
        "In supervised similarity learning, the networks are then trained to maximize the\n",
        "contrast (distance) between embeddings of inputs of different classes, while minimizing the distance between\n",
        "embeddings of similar classes, resulting in embedding spaces that reflect\n",
        "the class segmentation of the training inputs."
      ]
    },
    {
      "cell_type": "code",
      "execution_count": 1,
      "metadata": {
        "id": "gJy0FM0yoKxZ"
      },
      "outputs": [],
      "source": [
        "args = dict({\n",
        "    'dataset_dir': './',\n",
        "    'dataset_name': 'casia',\n",
        "    'train_size': 0.667,\n",
        "    'test_size': 0.333,\n",
        "    'random_seed': 42,\n",
        "    'batch_size': 64,\n",
        "    'margin': 1,\n",
        "    'epochs': 1000,\n",
        "    'image_shape': (280, 320, 3)\n",
        "})"
      ]
    },
    {
      "cell_type": "markdown",
      "metadata": {
        "id": "5V14dKFCjTgf"
      },
      "source": [
        "## Setup"
      ]
    },
    {
      "cell_type": "markdown",
      "metadata": {
        "id": "SZDn_uykov9N"
      },
      "source": [
        "## Utils"
      ]
    },
    {
      "cell_type": "code",
      "execution_count": 2,
      "metadata": {
        "id": "b_wA9iWloyF4"
      },
      "outputs": [],
      "source": [
        "from sklearn.model_selection import StratifiedShuffleSplit\n",
        "import glob\n",
        "import numpy as np\n",
        "import matplotlib.pyplot as plt\n",
        "\n",
        "def get_label(path: str, dataset_name: str):\n",
        "    dataset_split = path.split(dataset_name,1)[1]\n",
        "    label = int(dataset_split.split('/',2)[1])\n",
        "    return label - 1\n",
        "\n",
        "def getDataset(dataset_dir: str, dataset_name: str):\n",
        "    file_paths = np.sort(glob.glob(dataset_dir + '/*/*.bmp'))\n",
        "    labels = np.array([get_label(path, dataset_name) for path in file_paths], np.float32)\n",
        "\n",
        "    return file_paths, labels\n",
        "\n",
        "def stratifiedSortedSplit(file_paths: np.array, labels: np.array,\n",
        "                    train_size: float, test_size: float, random_state: int):\n",
        "    \"\"\"Splits image paths and labels equally for each class, then sorts them\"\"\"\n",
        "    splitter = StratifiedShuffleSplit(n_splits=1,\n",
        "                                      train_size=train_size, test_size=test_size, random_state=random_state)\n",
        "    train_indices, test_indices = next(splitter.split(file_paths, labels))\n",
        "\n",
        "    files_train, labels_train = file_paths[train_indices], labels[train_indices]\n",
        "    files_test, labels_test = file_paths[test_indices], labels[test_indices]\n",
        "\n",
        "    sort_index = np.argsort(labels_train)\n",
        "    labels_train = labels_train[sort_index]\n",
        "    files_train = files_train[sort_index]\n",
        "\n",
        "    sort_index = np.argsort(labels_test)\n",
        "    labels_test = labels_test[sort_index]\n",
        "    files_test = files_test[sort_index]\n",
        "\n",
        "    return files_train, labels_train, files_test, labels_test\n",
        "\n",
        "def plot_history(history):\n",
        "  acc = history.history['accuracy']\n",
        "  val_acc = history.history['val_accuracy']\n",
        "  loss = history.history['loss']\n",
        "  val_loss = history.history['val_loss']\n",
        "\n",
        "  epochs = range(len(acc))\n",
        "\n",
        "  plt.figure(figsize=(20,4))\n",
        "  plt.subplot(1,2,1)\n",
        "  plt.plot(epochs, acc, label='Training accuracy')\n",
        "  plt.plot(epochs, val_acc, 'r', label='Validation accuracy')\n",
        "  plt.title('Training and validation acc')\n",
        "  plt.legend()\n",
        "  plt.show()"
      ]
    },
    {
      "cell_type": "code",
      "execution_count": 3,
      "metadata": {
        "id": "ui8Lbv2LjTgg"
      },
      "outputs": [
        {
          "name": "stderr",
          "output_type": "stream",
          "text": [
            "2023-08-10 20:26:43.807823: I tensorflow/core/util/port.cc:110] oneDNN custom operations are on. You may see slightly different numerical results due to floating-point round-off errors from different computation orders. To turn them off, set the environment variable `TF_ENABLE_ONEDNN_OPTS=0`.\n",
            "2023-08-10 20:26:43.842379: I tensorflow/core/platform/cpu_feature_guard.cc:182] This TensorFlow binary is optimized to use available CPU instructions in performance-critical operations.\n",
            "To enable the following instructions: AVX2 AVX_VNNI FMA, in other operations, rebuild TensorFlow with the appropriate compiler flags.\n",
            "2023-08-10 20:26:44.334935: W tensorflow/compiler/tf2tensorrt/utils/py_utils.cc:38] TF-TRT Warning: Could not find TensorRT\n"
          ]
        }
      ],
      "source": [
        "import random\n",
        "import numpy as np\n",
        "import tensorflow as tf\n",
        "from tensorflow import keras\n",
        "from tensorflow.keras import layers\n",
        "import matplotlib.pyplot as plt\n",
        "import random\n",
        "import keras\n",
        "import datetime, os\n",
        "\n",
        "from sklearn.neighbors import KNeighborsClassifier\n",
        "from sklearn.metrics import accuracy_score, precision_score, recall_score, f1_score, confusion_matrix, ConfusionMatrixDisplay\n",
        "from sklearn.pipeline import make_pipeline\n",
        "from sklearn.preprocessing import StandardScaler\n",
        "from sklearn.svm import SVC\n",
        "from sklearn.model_selection import GridSearchCV\n",
        "from sklearn.manifold import TSNE\n",
        "\n",
        "tf.random.set_seed(args['random_seed'])\n",
        "np.random.seed(args['random_seed'])\n",
        "random.seed(args['random_seed'])\n",
        "keras.utils.set_random_seed(args['random_seed'])\n",
        "tf.config.experimental.enable_op_determinism()"
      ]
    },
    {
      "cell_type": "markdown",
      "metadata": {
        "id": "oVBwzWjUjTgi"
      },
      "source": [
        "## Load the dataset"
      ]
    },
    {
      "cell_type": "code",
      "execution_count": 4,
      "metadata": {
        "id": "anLEXmuMjTgi"
      },
      "outputs": [],
      "source": [
        "import os\n",
        "\n",
        "dataset_path = os.path.join(args['dataset_dir'], args['dataset_name'])\n",
        "\n",
        "file_paths, labels = getDataset(dataset_path, args['dataset_name'])"
      ]
    },
    {
      "cell_type": "markdown",
      "metadata": {
        "id": "KO4OM9_QjTgi"
      },
      "source": [
        "## Define training and validation sets"
      ]
    },
    {
      "cell_type": "code",
      "execution_count": null,
      "metadata": {
        "colab": {
          "base_uri": "https://localhost:8080/"
        },
        "id": "qRNiLyFujTgj",
        "outputId": "db086f42-83e4-48cb-f237-920ba3c63da1"
      },
      "outputs": [],
      "source": [
        "# Split image paths and labels using Stratified\n",
        "files_train, labels_train, files_test, labels_test = stratifiedSortedSplit(\n",
        "    file_paths, labels, args['train_size'], args['test_size'], args['random_seed'])\n",
        "\n",
        "train_count = np.unique(labels_train, return_counts=True)[1].mean()\n",
        "test_count = np.unique(labels_test, return_counts=True)[1].mean()\n",
        "print(\n",
        "    f'Split {train_count} images from each class for train and {test_count} for test')"
      ]
    },
    {
      "cell_type": "code",
      "execution_count": null,
      "metadata": {
        "id": "VQsAxy3XpLQK"
      },
      "outputs": [],
      "source": [
        "import tensorflow as tf\n",
        "from tensorflow.keras.models import Sequential\n",
        "from tensorflow.keras.layers import Conv2D, MaxPooling2D, Flatten, Dense\n",
        "# from tqdm import tqdm\n",
        "\n",
        "# Hiperparâmetros\n",
        "num_classes = len(np.unique(labels))\n",
        "\n",
        "\n",
        "# Função para carregar as imagens e os rótulos\n",
        "def carregar_imagens(file_paths, labels, input_shape):\n",
        "    images = np.empty((len(file_paths),) + input_shape)\n",
        "    for i in range(len(file_paths)):\n",
        "      imagem = tf.keras.preprocessing.image.load_img(file_paths[i], target_size=input_shape[:2])\n",
        "      imagem = tf.keras.preprocessing.image.img_to_array(imagem)\n",
        "      images[i] = imagem\n",
        "    return tf.convert_to_tensor(images), tf.convert_to_tensor(labels)\n",
        "\n",
        "images_train, labels_train = carregar_imagens(files_train, labels_train, args['image_shape'])\n",
        "# images_train /=  255.0\n",
        "images_test, labels_test = carregar_imagens(files_test, labels_test, args['image_shape'])\n",
        "# images_test /=  255.0"
      ]
    },
    {
      "cell_type": "markdown",
      "metadata": {
        "id": "gSleNzNZmd_r"
      },
      "source": [
        "# Testing Different Models"
      ]
    },
    {
      "cell_type": "code",
      "execution_count": null,
      "metadata": {
        "id": "3oCqeE9nmlMK"
      },
      "outputs": [],
      "source": [
        "import datetime, os\n",
        "from tensorflow.keras.applications.inception_v3 import InceptionV3\n",
        "from tensorflow.keras.applications.efficientnet import EfficientNetB0\n",
        "from tensorflow.keras.models import Model\n",
        "from tensorflow.keras.layers import Dense, GlobalAveragePooling2D\n",
        "from keras import backend as K\n",
        "\n",
        "# create the base pre-trained model\n",
        "\n",
        "def build_pretrained(pretrained_model, summary=False):\n",
        "  K.clear_session()\n",
        "  num_classes = len(np.unique(labels))\n",
        "  base_model = pretrained_model(weights='imagenet', include_top=False)\n",
        "\n",
        "  # add a global spatial average pooling layer\n",
        "  x = base_model.output\n",
        "  x = GlobalAveragePooling2D()(x)\n",
        "  # let's add a fully-connected layer\n",
        "  x = Dense(1024, activation='relu')(x)\n",
        "  # and a logistic layer -- let's say we have 200 classes\n",
        "  predictions = Dense(num_classes, activation='softmax')(x)\n",
        "\n",
        "  # this is the model we will train\n",
        "  model = Model(inputs=base_model.input, outputs=predictions)\n",
        "\n",
        "  # first: train only the top layers (which were randomly initialized)\n",
        "  # i.e. freeze all convolutional InceptionV3 layers\n",
        "  for layer in base_model.layers:\n",
        "      layer.trainable = False\n",
        "\n",
        "  # compile the model (should be done *after* setting layers to non-trainable)\n",
        "  model.compile(optimizer='adam', loss='sparse_categorical_crossentropy', metrics=['accuracy'])\n",
        "  if summary:\n",
        "    model.summary()\n",
        "\n",
        "  return model"
      ]
    },
    {
      "cell_type": "code",
      "execution_count": null,
      "metadata": {
        "id": "uoXDEOpopotZ"
      },
      "outputs": [],
      "source": [
        "model = build_pretrained(EfficientNetB0, False)"
      ]
    },
    {
      "cell_type": "code",
      "execution_count": 9,
      "metadata": {
        "colab": {
          "base_uri": "https://localhost:8080/"
        },
        "id": "T_7LSrFKm9_B",
        "outputId": "10afb45c-b54f-484d-c765-88a9309fa210"
      },
      "outputs": [
        {
          "name": "stdout",
          "output_type": "stream",
          "text": [
            "Epoch 1/1000\n"
          ]
        },
        {
          "ename": "",
          "evalue": "",
          "output_type": "error",
          "traceback": [
            "\u001b[1;31mCannot execute code, session has been disposed. Please try restarting the Kernel."
          ]
        },
        {
          "ename": "",
          "evalue": "",
          "output_type": "error",
          "traceback": [
            "\u001b[1;31mThe Kernel crashed while executing code in the the current cell or a previous cell. Please review the code in the cell(s) to identify a possible cause of the failure. Click <a href='https://aka.ms/vscodeJupyterKernelCrash'>here</a> for more info. View Jupyter <a href='command:jupyter.viewOutput'>log</a> for further details."
          ]
        }
      ],
      "source": [
        "logdir = os.path.join(\"logs\", datetime.datetime.now().strftime(\"%Y%m%d-%H%M%S\"))\n",
        "tensorboard_callback = tf.keras.callbacks.TensorBoard(logdir, histogram_freq=1)\n",
        "checkpoint = tf.keras.callbacks.ModelCheckpoint(\n",
        "    filepath='/tmp/checkpoint',\n",
        "    save_weights_only=True,\n",
        "    monitor='val_loss',\n",
        "    mode='max',\n",
        "    save_best_only=True)\n",
        "\n",
        "history = model.fit(\n",
        "    images_train,\n",
        "    labels_train,\n",
        "    validation_data=(images_test, labels_test),\n",
        "    batch_size=args['batch_size'],\n",
        "    epochs=args['epochs'],\n",
        "    callbacks=[checkpoint, tensorboard_callback]\n",
        ")"
      ]
    },
    {
      "cell_type": "code",
      "execution_count": null,
      "metadata": {
        "colab": {
          "base_uri": "https://localhost:8080/"
        },
        "id": "PSd-r8oqboAz",
        "outputId": "b220f055-00c7-406d-d4b5-a2b060f54450"
      },
      "outputs": [
        {
          "name": "stdout",
          "output_type": "stream",
          "text": [
            "4/4 [==============================] - 1s 133ms/step - loss: 1.8658 - accuracy: 0.7593\n"
          ]
        },
        {
          "data": {
            "text/plain": [
              "[1.8658052682876587, 0.7592592835426331]"
            ]
          },
          "execution_count": 27,
          "metadata": {},
          "output_type": "execute_result"
        }
      ],
      "source": [
        "model.evaluate(images_test, labels_test)"
      ]
    },
    {
      "cell_type": "code",
      "execution_count": null,
      "metadata": {
        "id": "3oc_UGucahjF"
      },
      "outputs": [],
      "source": [
        "model.save_weights('best_efficient_net_b0.keras')"
      ]
    },
    {
      "cell_type": "code",
      "execution_count": null,
      "metadata": {
        "colab": {
          "base_uri": "https://localhost:8080/"
        },
        "id": "ZsarIQdk4HV5",
        "outputId": "256bffc1-cee3-47e3-a5f5-f360183ffe7c"
      },
      "outputs": [
        {
          "name": "stdout",
          "output_type": "stream",
          "text": [
            "4/4 [==============================] - 55s 149ms/step - loss: 4.7736 - accuracy: 0.0185\n"
          ]
        },
        {
          "data": {
            "text/plain": [
              "[4.773604393005371, 0.018518518656492233]"
            ]
          },
          "execution_count": 24,
          "metadata": {},
          "output_type": "execute_result"
        }
      ],
      "source": [
        "model.load_weights('best_efficient_net_b0.keras')"
      ]
    },
    {
      "cell_type": "code",
      "execution_count": null,
      "metadata": {
        "id": "JhRr5x1reXja"
      },
      "outputs": [],
      "source": [
        "model2 = build_pretrained(EfficientNetB0, False)"
      ]
    },
    {
      "cell_type": "code",
      "execution_count": null,
      "metadata": {
        "id": "TMrISIXJea8S"
      },
      "outputs": [],
      "source": [
        "model2.load_weights('best_efficient_net_b0.keras')"
      ]
    },
    {
      "cell_type": "code",
      "execution_count": null,
      "metadata": {
        "colab": {
          "base_uri": "https://localhost:8080/"
        },
        "id": "OCCtVKtAdwlo",
        "outputId": "6aa94f3d-8511-4a54-a774-ca6fa9987294"
      },
      "outputs": [
        {
          "name": "stdout",
          "output_type": "stream",
          "text": [
            "4/4 [==============================] - 4s 133ms/step - loss: 1.8658 - accuracy: 0.7593\n"
          ]
        },
        {
          "data": {
            "text/plain": [
              "[1.8658052682876587, 0.7592592835426331]"
            ]
          },
          "execution_count": 32,
          "metadata": {},
          "output_type": "execute_result"
        }
      ],
      "source": [
        "model2.evaluate(images_test, labels_test)"
      ]
    },
    {
      "cell_type": "code",
      "execution_count": null,
      "metadata": {
        "colab": {
          "base_uri": "https://localhost:8080/",
          "height": 391
        },
        "id": "tck616034atF",
        "outputId": "33e328bc-54ba-49ea-e8a2-837b43d096dd"
      },
      "outputs": [
        {
          "data": {
            "image/png": "[encoded data removed]",
            "text/plain": [
              "<Figure size 2000x400 with 1 Axes>"
            ]
          },
          "metadata": {},
          "output_type": "display_data"
        }
      ],
      "source": [
        "plot_history(history)"
      ]
    },
    {
      "cell_type": "code",
      "execution_count": null,
      "metadata": {
        "id": "gSOUsZTJyXSt"
      },
      "outputs": [],
      "source": [
        "def run_training(X, y, X_test, y_test, model, plot=False, verbose=0):\n",
        "    callback = tf.keras.callbacks.EarlyStopping(monitor='val_loss', patience=30, min_delta=0.005, restore_best_weights=True)\n",
        "    history = model.fit(X, y, validation_data=(X_test, y_test), epochs=200, verbose=verbose, callbacks=[callback], batch_size = 128)\n",
        "    if plot:\n",
        "        plot_history(history)"
      ]
    },
    {
      "cell_type": "code",
      "execution_count": null,
      "metadata": {
        "colab": {
          "base_uri": "https://localhost:8080/"
        },
        "id": "0vBKyacL3X6G",
        "outputId": "6fb4edff-4bc5-4acc-edf5-e9ee9cb6c3a0"
      },
      "outputs": [
        {
          "name": "stdout",
          "output_type": "stream",
          "text": [
            "  adding: logs/ (stored 0%)\n",
            "  adding: logs/20230809-142414/ (stored 0%)\n",
            "  adding: logs/20230809-142414/validation/ (stored 0%)\n",
            "  adding: logs/20230809-142414/validation/events.out.tfevents.1691591120.0209fc576c14.429.1.v2 (deflated 68%)\n",
            "  adding: logs/20230809-142414/train/ (stored 0%)\n",
            "  adding: logs/20230809-142414/train/events.out.tfevents.1691591054.0209fc576c14.429.0.v2 (deflated 69%)\n",
            "  adding: logs/20230809-142630/ (stored 0%)\n",
            "  adding: logs/20230809-142630/validation/ (stored 0%)\n",
            "  adding: logs/20230809-142630/validation/events.out.tfevents.1691591201.0209fc576c14.429.3.v2 (deflated 81%)\n",
            "  adding: logs/20230809-142630/train/ (stored 0%)\n",
            "  adding: logs/20230809-142630/train/events.out.tfevents.1691591190.0209fc576c14.429.2.v2 (deflated 64%)\n"
          ]
        }
      ],
      "source": [
        "!zip -r logs.zip logs"
      ]
    }
  ],
  "metadata": {
    "accelerator": "GPU",
    "colab": {
      "gpuType": "T4",
      "provenance": []
    },
    "kernelspec": {
      "display_name": "Python 3",
      "name": "python3"
    },
    "language_info": {
      "codemirror_mode": {
        "name": "ipython",
        "version": 3
      },
      "file_extension": ".py",
      "mimetype": "text/x-python",
      "name": "python",
      "nbconvert_exporter": "python",
      "pygments_lexer": "ipython3",
      "version": "3.9.17"
    }
  },
  "nbformat": 4,
  "nbformat_minor": 0
}
